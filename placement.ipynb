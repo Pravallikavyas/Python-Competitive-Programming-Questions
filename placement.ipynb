{
  "nbformat": 4,
  "nbformat_minor": 0,
  "metadata": {
    "colab": {
      "provenance": [],
      "authorship_tag": "ABX9TyPY9I42lP5taAIHn33hRUH9",
      "include_colab_link": true
    },
    "kernelspec": {
      "name": "python3",
      "display_name": "Python 3"
    },
    "language_info": {
      "name": "python"
    }
  },
  "cells": [
    {
      "cell_type": "markdown",
      "metadata": {
        "id": "view-in-github",
        "colab_type": "text"
      },
      "source": [
        "<a href=\"https://colab.research.google.com/github/Pravallikavyas/Python-Competitive-Programming-Questions/blob/main/placement.ipynb\" target=\"_parent\"><img src=\"https://colab.research.google.com/assets/colab-badge.svg\" alt=\"Open In Colab\"/></a>"
      ]
    },
    {
      "cell_type": "markdown",
      "source": [
        "**QUESTION 1**"
      ],
      "metadata": {
        "id": "R_i_CC7uiEM7"
      }
    },
    {
      "cell_type": "markdown",
      "source": [
        "Athicavy is very competitive when it comes to exams.In her class,there are N students.Each student got arr[i](1<=i<=N)marks in stats exam.Athicavy wanted to solve questions.But to her suprise,she got different marks every time she solved.There are Q queries,each query represents a number X.For each query your task is to find the number of students who got marks greater than X.\n",
        "INPUT:\n",
        "1.The first line of the input contains a single integer T denoting the number of testcases.The description of T testcases follows.\n",
        "2.The first line of each testcase contains a single integer represents N.\n",
        "3.Next line contains N space seperated integers.\n",
        "4.The next line contains a single integer represents Q.\n",
        "5.Next,Q lines contain a single integer X.\n",
        "OUTPUT:\n",
        "For each query,print the count of students who got marks greater than X.\n",
        "CONSTRAINTS:\n",
        "1.1<=T<=5\n",
        "2.1<=N,arr[i],X,Q<=100000\n",
        "Example:\n",
        "Input:\n",
        "1\n",
        "3\n",
        "4 1 3\n",
        "4\n",
        "1\n",
        "2\n",
        "3\n",
        "4\n",
        "Output:\n",
        "2\n",
        "2\n",
        "1\n",
        "0"
      ],
      "metadata": {
        "id": "x1LXG_9FmmhO"
      }
    },
    {
      "cell_type": "code",
      "execution_count": 1,
      "metadata": {
        "colab": {
          "base_uri": "https://localhost:8080/"
        },
        "outputId": "0f96f1dc-8078-4bd8-f4fe-79ef0830aa19",
        "id": "7YzlRYpStTjA"
      },
      "outputs": [
        {
          "output_type": "stream",
          "name": "stdout",
          "text": [
            "2\n",
            "3\n",
            "4 1 3\n",
            "4\n",
            "1\n",
            "2\n",
            "3\n",
            "4\n",
            "2\n",
            "2\n",
            "1\n",
            "0\n",
            "3\n",
            "4 1 2\n",
            "4\n",
            "1\n",
            "2\n",
            "3\n",
            "4\n",
            "2\n",
            "1\n",
            "1\n",
            "0\n",
            "2\n",
            "1\n",
            "1\n",
            "0\n"
          ]
        }
      ],
      "source": [
        "def compt(l1,res):\n",
        "  for i in range(0,len(res)):\n",
        "    sum=0\n",
        "    f=0\n",
        "    for j in l1:\n",
        "       if(j>res[i]):\n",
        "          sum=sum+1\n",
        "          f=f+sum\n",
        "          sum=0\n",
        "    print(f)\n",
        "T=int(input( ))\n",
        "res=[]\n",
        "for i in range(T):\n",
        "   N=int(input( ))\n",
        "   l1=list(map(int,input( ).split(' ')))\n",
        "   Q=int(input( ))\n",
        "   for i in range(Q):\n",
        "       a1=int(input( ))\n",
        "       res.append(a1)\n",
        "   compt(l1,res)"
      ]
    }
  ]
}