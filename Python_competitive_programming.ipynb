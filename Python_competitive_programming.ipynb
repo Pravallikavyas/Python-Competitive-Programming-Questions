{
  "nbformat": 4,
  "nbformat_minor": 0,
  "metadata": {
    "colab": {
      "provenance": [],
      "authorship_tag": "ABX9TyP5GfrY3Y0uhqx59FCSplvk",
      "include_colab_link": true
    },
    "kernelspec": {
      "name": "python3",
      "display_name": "Python 3"
    },
    "language_info": {
      "name": "python"
    }
  },
  "cells": [
    {
      "cell_type": "markdown",
      "metadata": {
        "id": "view-in-github",
        "colab_type": "text"
      },
      "source": [
        "<a href=\"https://colab.research.google.com/github/Pravallikavyas/Python-Competitive-Programming-Questions/blob/main/Python_competitive_programming.ipynb\" target=\"_parent\"><img src=\"https://colab.research.google.com/assets/colab-badge.svg\" alt=\"Open In Colab\"/></a>"
      ]
    },
    {
      "cell_type": "markdown",
      "source": [
        "**QUESTION 1**"
      ],
      "metadata": {
        "id": "bOJfjyyxpr9H"
      }
    },
    {
      "cell_type": "code",
      "execution_count": null,
      "metadata": {
        "colab": {
          "base_uri": "https://localhost:8080/"
        },
        "id": "4KRcDSTY92Dh",
        "outputId": "0199d0cb-fb72-4a02-f0b8-12868bf46d8e"
      },
      "outputs": [
        {
          "output_type": "stream",
          "name": "stdout",
          "text": [
            "masaladosa 1\n",
            "Sorry,Only recipes in the menu !\n"
          ]
        }
      ],
      "source": [
        "def gst(final_bill):\n",
        "    final_bill+=final_bill*(5/100)\n",
        "    print(\"Total Price(GST inclusive):Rs \",final_bill)\n",
        "def billing(recipes,quantity):\n",
        "    b=0\n",
        "    try:\n",
        "        for i,j in zip(recipes,quantity):\n",
        "            b+=(menu[i]*j)\n",
        "        gst(b)\n",
        "    except:\n",
        "        print(\"Sorry,Only recipes in the menu !\")\n",
        "\n",
        "menu={\"oniondosa\":90,\"plaindosa\":40,\"ravadosa\":75,\"idli\":10,\"vada\":5,\"poori\":30,\"chapathi\":30,\"pongal\":35,\"tea\":25,\"coffee\":35,\"meals\":75}\n",
        "li=[str(r) for r in input().split()]\n",
        "recipes=[]\n",
        "quantity=[]\n",
        "for i in range(len(li)):\n",
        "    if i%2==0:\n",
        "        recipes.append(li[i])\n",
        "    else:\n",
        "        quantity.append(int(li[i]))\n",
        "billing(recipes,quantity)\n"
      ]
    },
    {
      "cell_type": "markdown",
      "source": [
        "**QUESTION 2**"
      ],
      "metadata": {
        "id": "ISWAIfMZpzUI"
      }
    },
    {
      "cell_type": "code",
      "source": [
        "s=input()\n",
        "asc=[]\n",
        "sum=0\n",
        "for i in s:\n",
        "    asc.append(ord(i))\n",
        "for i in asc:\n",
        "    sum=sum+i\n",
        "print(sum)"
      ],
      "metadata": {
        "id": "LTE5t45nn4_H",
        "outputId": "48e8ba16-6e71-47f1-8bda-9f21bf5313a7",
        "colab": {
          "base_uri": "https://localhost:8080/"
        }
      },
      "execution_count": null,
      "outputs": [
        {
          "output_type": "stream",
          "name": "stdout",
          "text": [
            "abc\n",
            "294\n"
          ]
        }
      ]
    },
    {
      "cell_type": "markdown",
      "source": [
        "**QUESTION 3**"
      ],
      "metadata": {
        "id": "3jaDPXYHp68R"
      }
    },
    {
      "cell_type": "code",
      "source": [
        "n=int(input())\n",
        "k=int(input())\n",
        "li=list(map(int,input( ).split(\" \")))\n",
        "l1=li.copy()\n",
        "lg=n-k\n",
        "l2=li[:lg]\n",
        "del li[:lg]\n",
        "if(k<=0):\n",
        "    print(*l1)\n",
        "else:\n",
        "   li.extend(l2)\n",
        "   print(*li)"
      ],
      "metadata": {
        "id": "LAYbfs_q6rei",
        "outputId": "f6ffca2d-2724-48ee-83c0-63018afc9a56",
        "colab": {
          "base_uri": "https://localhost:8080/"
        }
      },
      "execution_count": null,
      "outputs": [
        {
          "output_type": "stream",
          "name": "stdout",
          "text": [
            "7\n",
            "3\n",
            "1 2 3 4 5 6 7\n",
            "5 6 7 1 2 3 4\n"
          ]
        }
      ]
    },
    {
      "cell_type": "markdown",
      "source": [
        "**QUESTION 4**"
      ],
      "metadata": {
        "id": "qTnY9YGjqKfV"
      }
    },
    {
      "cell_type": "code",
      "source": [
        "n=int(input())\n",
        "start=2\n",
        "if start>1:\n",
        "    for i in range(start,n):\n",
        "        if i>1:\n",
        "            for j in range(2,i):\n",
        "                if i%j == 0:\n",
        "                    break\n",
        "            else:\n",
        "                print(i,end=\" \")"
      ],
      "metadata": {
        "colab": {
          "base_uri": "https://localhost:8080/"
        },
        "id": "95oUKu_2hSUI",
        "outputId": "35a94ba3-5548-4845-c963-3a4edc9e5989"
      },
      "execution_count": null,
      "outputs": [
        {
          "output_type": "stream",
          "name": "stdout",
          "text": [
            "10\n",
            "2 3 5 7 "
          ]
        }
      ]
    },
    {
      "cell_type": "markdown",
      "source": [
        "**QUESTION 5**"
      ],
      "metadata": {
        "id": "HNd0sjqR3u_y"
      }
    },
    {
      "cell_type": "code",
      "source": [
        "d={\"A\":1,\"B\":2,\"C\":3,\"D\":4,\"E\":5,\"F\":6,\"G\":7,\"H\":8,\"I\":9,\"J\":10,\"K\":11,\"L\":12,\"M\":13,\"N\":14,\"O\":15,\"P\":16,\"Q\":17,\"R\":18,\"S\":19,\"T\":20,\"U\":21,\"V\":22,\"W\":23,\"X\":24,\"Y\":25,\"Z\":26}\n",
        "s=input()\n",
        "t=input()\n",
        "s1=list(s)\n",
        "t1=list(t)\n",
        "mul=1\n",
        "for i in s1:\n",
        "    mul=mul*d[i]\n",
        "m2=1\n",
        "for j in t1:\n",
        "    m2=m2*d[j]\n",
        "r1=mul%47\n",
        "r2=m2%47\n",
        "if(r1==r2):\n",
        "    print(\"CHOSEN\")\n",
        "else:\n",
        "    print(\"NOT CHOSEN\")"
      ],
      "metadata": {
        "colab": {
          "base_uri": "https://localhost:8080/"
        },
        "id": "8Ux7wULm3t1m",
        "outputId": "86ac9f40-4b35-4405-ce76-877094e78d07"
      },
      "execution_count": null,
      "outputs": [
        {
          "output_type": "stream",
          "name": "stdout",
          "text": [
            "COMETQ\n",
            "HVNGAT\n",
            "CHOSEN\n"
          ]
        }
      ]
    },
    {
      "cell_type": "markdown",
      "source": [
        "**QUESTION 6**"
      ],
      "metadata": {
        "id": "CLruQWBi7tLo"
      }
    },
    {
      "cell_type": "code",
      "source": [
        "N,K=list(map(int,input().split()))\n",
        "A=list(map(int,input ().split()))\n",
        "for j in range(K):\n",
        " MAX=max(A)\n",
        "for i in range(N):\n",
        "   A[i]=MAX-A[i]\n",
        "print(*A)\n"
      ],
      "metadata": {
        "id": "Rjj-a4147xB9",
        "outputId": "e2ca967f-f5fb-4c5c-9ab5-5a9ec218bafb",
        "colab": {
          "base_uri": "https://localhost:8080/"
        }
      },
      "execution_count": null,
      "outputs": [
        {
          "output_type": "stream",
          "name": "stdout",
          "text": [
            "4 1\n",
            "5 -1 7 0\n",
            "2 8 0 7\n"
          ]
        }
      ]
    },
    {
      "cell_type": "markdown",
      "source": [
        "**QUESTION 7**"
      ],
      "metadata": {
        "id": "7aVTJ1VMUWT_"
      }
    },
    {
      "cell_type": "code",
      "source": [
        "n = int(input())\n",
        "l = [int(x) for x in input().split()]\n",
        "max = (str(bin(l[0]))[2:]).count(\"1\")\n",
        "ans = []\n",
        "for i in range(len(l)):\n",
        "    if max < (str(bin(l[i]))[2:]).count(\"1\"):\n",
        "        max = (str(bin(l[i]))[2:]).count(\"1\")\n",
        "for i in range(max,0,-1):\n",
        "    for j in range(len(l)):\n",
        "        a=[]\n",
        "        if (str(bin(l[j]))[2:]).count(\"1\") == i:\n",
        "            a.append(l[j])\n",
        "        ans.extend(a)\n",
        "print(*ans)"
      ],
      "metadata": {
        "colab": {
          "base_uri": "https://localhost:8080/"
        },
        "id": "O8g7Fyd8X5Ky",
        "outputId": "3cf5b627-0ff3-4767-db7c-9c32ad130e03"
      },
      "execution_count": 8,
      "outputs": [
        {
          "output_type": "stream",
          "name": "stdout",
          "text": [
            "6\n",
            "1 2 3 4 5 6\n",
            "3 5 6 1 2 4\n"
          ]
        }
      ]
    }
  ]
}