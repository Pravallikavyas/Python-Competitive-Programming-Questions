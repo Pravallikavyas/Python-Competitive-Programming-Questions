{
  "nbformat": 4,
  "nbformat_minor": 0,
  "metadata": {
    "colab": {
      "provenance": [],
      "authorship_tag": "ABX9TyMBZFROJSyU74ks27HSbjOn",
      "include_colab_link": true
    },
    "kernelspec": {
      "name": "python3",
      "display_name": "Python 3"
    },
    "language_info": {
      "name": "python"
    }
  },
  "cells": [
    {
      "cell_type": "markdown",
      "metadata": {
        "id": "view-in-github",
        "colab_type": "text"
      },
      "source": [
        "<a href=\"https://colab.research.google.com/github/Pravallikavyas/Python-Competitive-Programming-Questions/blob/main/Python_competitive_programming.ipynb\" target=\"_parent\"><img src=\"https://colab.research.google.com/assets/colab-badge.svg\" alt=\"Open In Colab\"/></a>"
      ]
    },
    {
      "cell_type": "code",
      "execution_count": null,
      "metadata": {
        "colab": {
          "base_uri": "https://localhost:8080/"
        },
        "id": "4KRcDSTY92Dh",
        "outputId": "0199d0cb-fb72-4a02-f0b8-12868bf46d8e"
      },
      "outputs": [
        {
          "output_type": "stream",
          "name": "stdout",
          "text": [
            "masaladosa 1\n",
            "Sorry,Only recipes in the menu !\n"
          ]
        }
      ],
      "source": [
        "def gst(final_bill):\n",
        "    final_bill+=final_bill*(5/100)\n",
        "    print(\"Total Price(GST inclusive):Rs \",final_bill)\n",
        "def billing(recipes,quantity):\n",
        "    b=0\n",
        "    try:\n",
        "        for i,j in zip(recipes,quantity):\n",
        "            b+=(menu[i]*j)\n",
        "        gst(b)\n",
        "    except:\n",
        "        print(\"Sorry,Only recipes in the menu !\")\n",
        "\n",
        "menu={\"oniondosa\":90,\"plaindosa\":40,\"ravadosa\":75,\"idli\":10,\"vada\":5,\"poori\":30,\"chapathi\":30,\"pongal\":35,\"tea\":25,\"coffee\":35,\"meals\":75}\n",
        "li=[str(r) for r in input().split()]\n",
        "recipes=[]\n",
        "quantity=[]\n",
        "for i in range(len(li)):\n",
        "    if i%2==0:\n",
        "        recipes.append(li[i])\n",
        "    else:\n",
        "        quantity.append(int(li[i]))\n",
        "billing(recipes,quantity)\n"
      ]
    },
    {
      "cell_type": "code",
      "source": [
        "s=input()\n",
        "asc=[]\n",
        "sum=0\n",
        "for i in s:\n",
        "    asc.append(ord(i))\n",
        "for i in asc:\n",
        "    sum=sum+i\n",
        "print(sum)"
      ],
      "metadata": {
        "id": "LTE5t45nn4_H",
        "outputId": "48e8ba16-6e71-47f1-8bda-9f21bf5313a7",
        "colab": {
          "base_uri": "https://localhost:8080/"
        }
      },
      "execution_count": 1,
      "outputs": [
        {
          "output_type": "stream",
          "name": "stdout",
          "text": [
            "abc\n",
            "294\n"
          ]
        }
      ]
    }
  ]
}