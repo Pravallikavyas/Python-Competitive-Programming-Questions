{
  "nbformat": 4,
  "nbformat_minor": 0,
  "metadata": {
    "colab": {
      "provenance": [],
      "authorship_tag": "ABX9TyNxPkOP2gRm744ATH2E2AwK",
      "include_colab_link": true
    },
    "kernelspec": {
      "name": "python3",
      "display_name": "Python 3"
    },
    "language_info": {
      "name": "python"
    }
  },
  "cells": [
    {
      "cell_type": "markdown",
      "metadata": {
        "id": "view-in-github",
        "colab_type": "text"
      },
      "source": [
        "<a href=\"https://colab.research.google.com/github/Pravallikavyas/Python-Competitive-Programming-Questions/blob/main/Python_competitive_programming.ipynb\" target=\"_parent\"><img src=\"https://colab.research.google.com/assets/colab-badge.svg\" alt=\"Open In Colab\"/></a>"
      ]
    },
    {
      "cell_type": "markdown",
      "source": [
        "**QUESTION 1**"
      ],
      "metadata": {
        "id": "bOJfjyyxpr9H"
      }
    },
    {
      "cell_type": "markdown",
      "source": [
        "**Consider** today is sunday,In a restaurant,too much crowd in the cash counter the cashier need some help to calculate the bills.\n",
        "that restaurant has different recipes they are,\n",
        "menu:-\n",
        "oniondosa-90 rs\n",
        "plaindosa-40 rs\n",
        "ravadosa-75 rs\n",
        "idli-10 rs\n",
        "vada-5 rs\n",
        "poori-30 rs\n",
        "chapathi -30 rs\n",
        "pongal-35 rs\n",
        "tea-25 rs\n",
        "coffee-35 rs\n",
        "meals-75 rs\n",
        "Note: Price details discripted above is without GST.You need add 5 precent of GST for the total amount of a bill.\n",
        "Input Discription:\n",
        "Single line consists of recipes with count as shown below.\n",
        "Output Discription:\n",
        "Print output as \"Total Price(GST inclusive):Rs xx.x\"\n",
        "Testcases:\n",
        "Input:\n",
        "tea 2\n",
        "output:\n",
        "Total Price(GST inclusive):Rs  52.5\n",
        "Input:\n",
        "vada 2 coffee 1\n",
        "output:\n",
        "Total Price(GST inclusive):Rs  47.25\n",
        "Input:\n",
        "meals 2 ravadosa 5 vada 4 poori 7 oniondosa 4 chapathi 2\n",
        "output:\n",
        "Total Price(GST inclusive):Rs  1233.75\n",
        "Input:\n",
        "masaladosa 1\n",
        "Output:\n",
        "Sorry,Only recipes in the menu !"
      ],
      "metadata": {
        "id": "g-X5jaUPtL-i"
      }
    },
    {
      "cell_type": "code",
      "execution_count": null,
      "metadata": {
        "colab": {
          "base_uri": "https://localhost:8080/"
        },
        "id": "4KRcDSTY92Dh",
        "outputId": "0199d0cb-fb72-4a02-f0b8-12868bf46d8e"
      },
      "outputs": [
        {
          "output_type": "stream",
          "name": "stdout",
          "text": [
            "masaladosa 1\n",
            "Sorry,Only recipes in the menu !\n"
          ]
        }
      ],
      "source": [
        "def gst(final_bill):\n",
        "    final_bill+=final_bill*(5/100)\n",
        "    print(\"Total Price(GST inclusive):Rs \",final_bill)\n",
        "def billing(recipes,quantity):\n",
        "    b=0\n",
        "    try:\n",
        "        for i,j in zip(recipes,quantity):\n",
        "            b+=(menu[i]*j)\n",
        "        gst(b)\n",
        "    except:\n",
        "        print(\"Sorry,Only recipes in the menu !\")\n",
        "\n",
        "menu={\"oniondosa\":90,\"plaindosa\":40,\"ravadosa\":75,\"idli\":10,\"vada\":5,\"poori\":30,\"chapathi\":30,\"pongal\":35,\"tea\":25,\"coffee\":35,\"meals\":75}\n",
        "li=[str(r) for r in input().split()]\n",
        "recipes=[]\n",
        "quantity=[]\n",
        "for i in range(len(li)):\n",
        "    if i%2==0:\n",
        "        recipes.append(li[i])\n",
        "    else:\n",
        "        quantity.append(int(li[i]))\n",
        "billing(recipes,quantity)\n"
      ]
    },
    {
      "cell_type": "markdown",
      "source": [
        "**QUESTION 2**"
      ],
      "metadata": {
        "id": "ISWAIfMZpzUI"
      }
    },
    {
      "cell_type": "markdown",
      "source": [
        "Given a string S converts each of the characters into numbers(ASCII) and print the sum of the numbers.\n",
        "Input:\n",
        "abc\n",
        "output:\n",
        "**294**"
      ],
      "metadata": {
        "id": "uyhjMtohtdhY"
      }
    },
    {
      "cell_type": "code",
      "source": [
        "s=input()\n",
        "asc=[]\n",
        "sum=0\n",
        "for i in s:\n",
        "    asc.append(ord(i))\n",
        "for i in asc:\n",
        "    sum=sum+i\n",
        "print(sum)"
      ],
      "metadata": {
        "id": "LTE5t45nn4_H",
        "outputId": "48e8ba16-6e71-47f1-8bda-9f21bf5313a7",
        "colab": {
          "base_uri": "https://localhost:8080/"
        }
      },
      "execution_count": null,
      "outputs": [
        {
          "output_type": "stream",
          "name": "stdout",
          "text": [
            "abc\n",
            "294\n"
          ]
        }
      ]
    },
    {
      "cell_type": "markdown",
      "source": [
        "**QUESTION 3**"
      ],
      "metadata": {
        "id": "3jaDPXYHp68R"
      }
    },
    {
      "cell_type": "markdown",
      "source": [
        "An interview is scheduled for a list of students in GUVI Office, and\n",
        "the candidate list has been shared to the interview panel\n",
        "But in the last minute HR came to know the last n students in the\n",
        "candidate list need to be given priority, since they need to catch a\n",
        "flight\n",
        "For Example, with n=7 candidates and k=3 need to catch their flight\n",
        "So the order need to be changed as\n",
        "(12.3.4.5.6.7}to{5,6,7,1,2,3,4)\n",
        "If k <=0.no shuffling is needed\n",
        "Write a program to help the HR to shuffle the candidate list so that\n",
        "last n will come in the first\n",
        "Input:\n",
        "n-No. of candidates\n",
        "K-No. of candidates in the end of the list who need\n",
        "to be given priority\n",
        "al-Candidates list\n",
        "Expected Output\n",
        "Output\n",
        "Candidates list in shufled order.\n",
        "Input:\n",
        "7\n",
        "3\n",
        "1 2 3 4 5 6 7\n",
        "Output:\n",
        "5 6 7 1 2 3 4"
      ],
      "metadata": {
        "id": "2A49WoVfto0c"
      }
    },
    {
      "cell_type": "code",
      "source": [
        "n=int(input())\n",
        "k=int(input())\n",
        "li=list(map(int,input( ).split(\" \")))\n",
        "l1=li.copy()\n",
        "lg=n-k\n",
        "l2=li[:lg]\n",
        "del li[:lg]\n",
        "if(k<=0):\n",
        "    print(*l1)\n",
        "else:\n",
        "   li.extend(l2)\n",
        "   print(*li)"
      ],
      "metadata": {
        "id": "LAYbfs_q6rei",
        "outputId": "f6ffca2d-2724-48ee-83c0-63018afc9a56",
        "colab": {
          "base_uri": "https://localhost:8080/"
        }
      },
      "execution_count": null,
      "outputs": [
        {
          "output_type": "stream",
          "name": "stdout",
          "text": [
            "7\n",
            "3\n",
            "1 2 3 4 5 6 7\n",
            "5 6 7 1 2 3 4\n"
          ]
        }
      ]
    },
    {
      "cell_type": "markdown",
      "source": [
        "**QUESTION 4**"
      ],
      "metadata": {
        "id": "qTnY9YGjqKfV"
      }
    },
    {
      "cell_type": "markdown",
      "source": [
        "Given a number N print all prime numbers less than N.\n",
        "Input:\n",
        "10\n",
        "Output:\n",
        "2 3 5 7 "
      ],
      "metadata": {
        "id": "5xnMVLTet1sM"
      }
    },
    {
      "cell_type": "code",
      "source": [
        "n=int(input())\n",
        "start=2\n",
        "if start>1:\n",
        "    for i in range(start,n):\n",
        "        if i>1:\n",
        "            for j in range(2,i):\n",
        "                if i%j == 0:\n",
        "                    break\n",
        "            else:\n",
        "                print(i,end=\" \")"
      ],
      "metadata": {
        "colab": {
          "base_uri": "https://localhost:8080/"
        },
        "id": "95oUKu_2hSUI",
        "outputId": "35a94ba3-5548-4845-c963-3a4edc9e5989"
      },
      "execution_count": null,
      "outputs": [
        {
          "output_type": "stream",
          "name": "stdout",
          "text": [
            "10\n",
            "2 3 5 7 "
          ]
        }
      ]
    },
    {
      "cell_type": "markdown",
      "source": [
        "**QUESTION 5**"
      ],
      "metadata": {
        "id": "HNd0sjqR3u_y"
      }
    },
    {
      "cell_type": "markdown",
      "source": [
        "In a magical world,student and teacher are chosen by some rule.You are given the name of the student and name of the teacher,you have to tell whether they are chosen or not.\n",
        "The process is as follows:the name of the student and teacher are first converted to numbers by the process described below.If the students number mod 47 and teachers number mod 47 is same then they would be chosen otherwise not.The number corresponding to a name is deduced by multiplying individual numbers assigned to its letters.Letter 'A' is assigned 1,'B' is assigned 2...so...till..'Z'is 26.\n",
        "For instance,\"ANKUR\" would be 1*14*11*21*18=58212.\n",
        "Print\"CHOSEN\" if the above condition satisfied otherwise print \"NOT CHOSEN\".\n",
        "INPUT:\n",
        "Line 1:An Uppercase character string representing the name of the student(S).\n",
        "Line 2:An Uppercase character string representing the name of the teacher(T).\n",
        "OUTPUT:\n",
        "A single line containing either the word \"CHOSEN\" or the word \"NOT CHOSEN\".\n",
        "Constraints:\n",
        "1<=Length of both strings<=100\n",
        "Input:\n",
        "A\n",
        "Z\n",
        "Output:\n",
        "NOT CHOSEN\n",
        "Input:\n",
        "COMETQ\n",
        "HVNGAT\n",
        "Output:\n",
        "CHOSEN"
      ],
      "metadata": {
        "id": "xUVFjunnvSRC"
      }
    },
    {
      "cell_type": "code",
      "source": [
        "d={\"A\":1,\"B\":2,\"C\":3,\"D\":4,\"E\":5,\"F\":6,\"G\":7,\"H\":8,\"I\":9,\"J\":10,\"K\":11,\"L\":12,\"M\":13,\"N\":14,\"O\":15,\"P\":16,\"Q\":17,\"R\":18,\"S\":19,\"T\":20,\"U\":21,\"V\":22,\"W\":23,\"X\":24,\"Y\":25,\"Z\":26}\n",
        "s=input()\n",
        "t=input()\n",
        "s1=list(s)\n",
        "t1=list(t)\n",
        "mul=1\n",
        "for i in s1:\n",
        "    mul=mul*d[i]\n",
        "m2=1\n",
        "for j in t1:\n",
        "    m2=m2*d[j]\n",
        "r1=mul%47\n",
        "r2=m2%47\n",
        "if(r1==r2):\n",
        "    print(\"CHOSEN\")\n",
        "else:\n",
        "    print(\"NOT CHOSEN\")"
      ],
      "metadata": {
        "colab": {
          "base_uri": "https://localhost:8080/"
        },
        "id": "8Ux7wULm3t1m",
        "outputId": "86ac9f40-4b35-4405-ce76-877094e78d07"
      },
      "execution_count": null,
      "outputs": [
        {
          "output_type": "stream",
          "name": "stdout",
          "text": [
            "COMETQ\n",
            "HVNGAT\n",
            "CHOSEN\n"
          ]
        }
      ]
    },
    {
      "cell_type": "markdown",
      "source": [
        "**QUESTION 6**"
      ],
      "metadata": {
        "id": "CLruQWBi7tLo"
      }
    },
    {
      "cell_type": "markdown",
      "source": [
        "Karthick is a mathematical genius. He wants to solve the followong problem: given array of N integers A and a number K. During a turn the maximal value over all A[i] is chosen, let's call it MAX. Then A[i]= MAX - A[i] is done for every 1 <=i<= N. Help Karthick to find out how will the array look like after K turns.\n",
        "Input:\n",
        "The numbers N and K are given in the first line of an input. Then N integers\n",
        "are given in the second line which denote the array A.\n",
        "Output:\n",
        "Output N numbers on a single line. It should be the array A after K turns.\n",
        "Example:\n",
        "Input:\n",
        "4 1\n",
        "5 -1 7 0\n",
        "Output:\n",
        "2 8 0 7"
      ],
      "metadata": {
        "id": "SMBMD_jSNyAo"
      }
    },
    {
      "cell_type": "code",
      "source": [
        "N,K=list(map(int,input().split()))\n",
        "A=list(map(int,input ().split()))\n",
        "for j in range(K):\n",
        " MAX=max(A)\n",
        "for i in range(N):\n",
        "   A[i]=MAX-A[i]\n",
        "print(*A)\n"
      ],
      "metadata": {
        "id": "Rjj-a4147xB9",
        "outputId": "e2ca967f-f5fb-4c5c-9ab5-5a9ec218bafb",
        "colab": {
          "base_uri": "https://localhost:8080/"
        }
      },
      "execution_count": null,
      "outputs": [
        {
          "output_type": "stream",
          "name": "stdout",
          "text": [
            "4 1\n",
            "5 -1 7 0\n",
            "2 8 0 7\n"
          ]
        }
      ]
    },
    {
      "cell_type": "markdown",
      "source": [
        "**QUESTION 7**"
      ],
      "metadata": {
        "id": "7aVTJ1VMUWT_"
      }
    },
    {
      "cell_type": "markdown",
      "source": [
        "Ram loves bit magic. He is given a set of integers, and wants to sort them based on the number of 1s in their binary representations (in descending order). Help Ram do a little bit of bit magic!\n",
        "inputDescription: Number of elements followed by the elements\n",
        "outputDescription: Sorted list of numbers\n",
        "sample input:\n",
        "6\n",
        "1 2 3 4 5 6\n",
        "sample output:\n",
        "3 5 6 1 2 4"
      ],
      "metadata": {
        "id": "R5RVCJP4OGC4"
      }
    },
    {
      "cell_type": "code",
      "source": [
        "n = int(input())\n",
        "l = [int(x) for x in input().split()]\n",
        "max = (str(bin(l[0]))[2:]).count(\"1\")\n",
        "ans = []\n",
        "for i in range(len(l)):\n",
        "    if max < (str(bin(l[i]))[2:]).count(\"1\"):\n",
        "        max = (str(bin(l[i]))[2:]).count(\"1\")\n",
        "for i in range(max,0,-1):\n",
        "    for j in range(len(l)):\n",
        "        a=[]\n",
        "        if (str(bin(l[j]))[2:]).count(\"1\") == i:\n",
        "            a.append(l[j])\n",
        "        ans.extend(a)\n",
        "print(*ans)"
      ],
      "metadata": {
        "colab": {
          "base_uri": "https://localhost:8080/"
        },
        "id": "O8g7Fyd8X5Ky",
        "outputId": "3cf5b627-0ff3-4767-db7c-9c32ad130e03"
      },
      "execution_count": null,
      "outputs": [
        {
          "output_type": "stream",
          "name": "stdout",
          "text": [
            "6\n",
            "1 2 3 4 5 6\n",
            "3 5 6 1 2 4\n"
          ]
        }
      ]
    },
    {
      "cell_type": "markdown",
      "source": [
        "**QUESTION 8**"
      ],
      "metadata": {
        "id": "d2m811SliI-m"
      }
    },
    {
      "cell_type": "markdown",
      "source": [
        "Given a list of non negative integers, arrange them in such a manner that they form the largest number possible. The result is going to be very large, hence return the result in the form of a string.\n",
        "Input: The first line of input consists number of the test cases. The description of T test cases is as follows: The first line of each test case contains the size of the array, and the second line has the elements of the array.\n",
        "Output: In each separate line print the largest number formed by arranging the elements of the array in the form of a string.\n",
        "Constraints:\n",
        "1<T<70\n",
        "1<N<100\n",
        "0 < A[i] < 1000\n",
        "Input:\n",
        "2\n",
        "5\n",
        "3 30 34 5 9\n",
        "4\n",
        "54 546 548 60\n",
        "Output:\n",
        "9534330\n",
        "6054854654"
      ],
      "metadata": {
        "id": "U_iIqKqOOSn3"
      }
    },
    {
      "cell_type": "code",
      "source": [
        "from itertools import permutations\n",
        "def largest(l):\n",
        "  lst=[]\n",
        "  for i in permutations(l,len(l)):\n",
        "    lst.append(\"\".join(map(str,i)))\n",
        "  return max(lst)\n",
        "t=int(input( ))\n",
        "for i in range(t):\n",
        "  n=int(input( ))\n",
        "  li=list(map(int,input( ).split(\" \")))\n",
        "  print(largest(li))"
      ],
      "metadata": {
        "colab": {
          "base_uri": "https://localhost:8080/"
        },
        "id": "OcnqQSzGiPIQ",
        "outputId": "26e6b64e-e065-4637-f24e-ffd2d75f24a2"
      },
      "execution_count": null,
      "outputs": [
        {
          "output_type": "stream",
          "name": "stdout",
          "text": [
            "2\n",
            "5\n",
            "3 30 34 5 9\n",
            "9534330\n",
            "4\n",
            "54 546 548 60\n",
            "6054854654\n"
          ]
        }
      ]
    },
    {
      "cell_type": "markdown",
      "source": [
        "**QUESTION** **9**"
      ],
      "metadata": {
        "id": "LgEtQbaRqvgn"
      }
    },
    {
      "cell_type": "markdown",
      "source": [
        "**Given the heights of N towers and a value of K, Either increase or decrease the height of every tower by K (only once) where K > 0. After modifications, the task is to minimize the difference between the heights of the longest and the shortest tower and output its difference.**\n",
        "Input: arr[] = {1, 15, 10}, k = 6\n",
        "Output:  Maximum difference is 5.\n",
        "Explanation: Change 1 to 7, 15 to 9 and 10 to 4. Maximum difference is 5 (between 4 and 9). We can’t get a lower difference.\n",
        "\n",
        "Input: arr[] = {1, 5, 15, 10}, k = 3   \n",
        "Output: Maximum difference is 8, arr[] = {4, 8, 12, 7} "
      ],
      "metadata": {
        "id": "ZLDXaaXJq_fK"
      }
    },
    {
      "cell_type": "code",
      "source": [
        "def getminheight(arr,n,k):\n",
        "  arr.sort( )\n",
        "  ans=arr[n-1]-arr[0]\n",
        "  tempmin=arr[0]\n",
        "  tempmax=arr[n-1]\n",
        "  for i in range(1,n):\n",
        "    if(arr[i]<k):\n",
        "      continue\n",
        "    tempmin=min(arr[0]+k,arr[i]-k)\n",
        "    tempmax=max(arr[i-1]+k,arr[n-1]-k)\n",
        "    ans=min(ans,tempmax-tempmin)\n",
        "  return ans\n",
        "k,n=list(map(int,input().split(\" \")))\n",
        "arr=list(map(int,input( ).split(\" \")))\n",
        "print(getminheight(arr,n,k))"
      ],
      "metadata": {
        "id": "NGsi9G2Oo5yI",
        "outputId": "b80748c7-5f3c-4540-ad45-3d10833d4874",
        "colab": {
          "base_uri": "https://localhost:8080/"
        }
      },
      "execution_count": null,
      "outputs": [
        {
          "output_type": "stream",
          "name": "stdout",
          "text": [
            "2 4\n",
            "1 5 8 10\n",
            "5\n"
          ]
        }
      ]
    },
    {
      "cell_type": "markdown",
      "source": [
        "**QUESTION 10**"
      ],
      "metadata": {
        "id": "VLzobv6rVyZ_"
      }
    },
    {
      "cell_type": "markdown",
      "source": [
        "Given a string print reverse all words except the last word.\n",
        "sample input:\n",
        "Hello world\n",
        "sample output:\n",
        "Hello World\n",
        "sample input:\n",
        "Good morning to all\n",
        "sample output:\n",
        "to morning Good all"
      ],
      "metadata": {
        "id": "LplXoj96V59z"
      }
    },
    {
      "cell_type": "code",
      "source": [
        "s=input( )\n",
        "li=list(s.split(' '))\n",
        "l=len(li)\n",
        "last=li[l-1]\n",
        "if(l>2):\n",
        "  li.reverse( )\n",
        "  li.append(last)\n",
        "  del li[0]\n",
        "  print(*li)\n",
        "else:\n",
        "  print(str.title(s))"
      ],
      "metadata": {
        "id": "00Gtn68PV46E",
        "outputId": "57532843-3951-4469-c371-1bf5cd4f39d3",
        "colab": {
          "base_uri": "https://localhost:8080/"
        }
      },
      "execution_count": 2,
      "outputs": [
        {
          "output_type": "stream",
          "name": "stdout",
          "text": [
            "Good morning to all\n",
            "to morning Good all\n"
          ]
        }
      ]
    }
  ]
}